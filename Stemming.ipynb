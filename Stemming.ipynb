{
  "nbformat": 4,
  "nbformat_minor": 0,
  "metadata": {
    "colab": {
      "provenance": [],
      "authorship_tag": "ABX9TyP4Yg1f0raeO1PXkLUbtJgt",
      "include_colab_link": true
    },
    "kernelspec": {
      "name": "python3",
      "display_name": "Python 3"
    },
    "language_info": {
      "name": "python"
    }
  },
  "cells": [
    {
      "cell_type": "markdown",
      "metadata": {
        "id": "view-in-github",
        "colab_type": "text"
      },
      "source": [
        "<a href=\"https://colab.research.google.com/github/Saurav-23/Saurav_N-Edac-2020/blob/master/Stemming.ipynb\" target=\"_parent\"><img src=\"https://colab.research.google.com/assets/colab-badge.svg\" alt=\"Open In Colab\"/></a>"
      ]
    },
    {
      "cell_type": "code",
      "execution_count": 1,
      "metadata": {
        "id": "g3eQ_J4grkCt"
      },
      "outputs": [],
      "source": [
        "import nltk"
      ]
    },
    {
      "cell_type": "code",
      "source": [
        "from nltk.stem.porter import PorterStemmer"
      ],
      "metadata": {
        "id": "V_GvxY_-ruuB"
      },
      "execution_count": 2,
      "outputs": []
    },
    {
      "cell_type": "code",
      "source": [
        "p_stemmer = PorterStemmer()"
      ],
      "metadata": {
        "id": "U78IdLwIr8VF"
      },
      "execution_count": 3,
      "outputs": []
    },
    {
      "cell_type": "code",
      "source": [
        "words = ['run','runner','ran','runs','easily','fairly']"
      ],
      "metadata": {
        "id": "DnTLOOvhsGuz"
      },
      "execution_count": 4,
      "outputs": []
    },
    {
      "cell_type": "code",
      "source": [
        "for word in words:\n",
        "  print(word + '----->' + p_stemmer.stem(word))"
      ],
      "metadata": {
        "colab": {
          "base_uri": "https://localhost:8080/"
        },
        "id": "iIyUNbaLsc0r",
        "outputId": "05a177cc-ffa0-438a-a5f7-bb9c7be1e194"
      },
      "execution_count": 5,
      "outputs": [
        {
          "output_type": "stream",
          "name": "stdout",
          "text": [
            "run----->run\n",
            "runner----->runner\n",
            "ran----->ran\n",
            "runs----->run\n",
            "easily----->easili\n",
            "fairly----->fairli\n"
          ]
        }
      ]
    },
    {
      "cell_type": "code",
      "source": [
        "from nltk.stem.snowball import SnowballStemmer"
      ],
      "metadata": {
        "id": "AhjxZtgFtIA3"
      },
      "execution_count": 6,
      "outputs": []
    },
    {
      "cell_type": "code",
      "source": [
        "s_stemmer = SnowballStemmer(language = 'english')"
      ],
      "metadata": {
        "id": "Sp_wuenftgqW"
      },
      "execution_count": 7,
      "outputs": []
    },
    {
      "cell_type": "code",
      "source": [
        "for word in words:\n",
        "  print(word + ' ----->' + s_stemmer.stem(word))"
      ],
      "metadata": {
        "colab": {
          "base_uri": "https://localhost:8080/"
        },
        "id": "3sdo_KuMtv1J",
        "outputId": "e39c6dd9-0163-4296-b615-35eedae3bb6c"
      },
      "execution_count": 11,
      "outputs": [
        {
          "output_type": "stream",
          "name": "stdout",
          "text": [
            "generous ----->generous\n",
            "generation ----->generat\n",
            "generously ----->generous\n",
            "generate ----->generat\n"
          ]
        }
      ]
    },
    {
      "cell_type": "code",
      "source": [
        "words = ['generous','generation','generously','generate']"
      ],
      "metadata": {
        "id": "Fde9ENiOusyF"
      },
      "execution_count": 12,
      "outputs": []
    },
    {
      "cell_type": "code",
      "source": [
        "for word in words:\n",
        "  print(word + ' ----->' + s_stemmer.stem(word))"
      ],
      "metadata": {
        "colab": {
          "base_uri": "https://localhost:8080/"
        },
        "id": "ulB4Y8CBu8qo",
        "outputId": "8a8757ac-2780-4ae4-a958-b68e37d796d7"
      },
      "execution_count": 13,
      "outputs": [
        {
          "output_type": "stream",
          "name": "stdout",
          "text": [
            "generous ----->generous\n",
            "generation ----->generat\n",
            "generously ----->generous\n",
            "generate ----->generat\n"
          ]
        }
      ]
    }
  ]
}